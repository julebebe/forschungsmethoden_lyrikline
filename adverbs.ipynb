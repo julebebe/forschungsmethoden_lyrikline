{
 "cells": [
  {
   "cell_type": "code",
   "execution_count": 3,
   "metadata": {},
   "outputs": [],
   "source": [
    "import os\n",
    "import json\n",
    "import spacy\n",
    "from collections import Counter\n",
    "import matplotlib.pyplot as plt\n",
    "import numpy as np\n",
    "import statistics\n",
    "\n",
    "from scipy.stats import ttest_ind, shapiro, mannwhitneyu"
   ]
  },
  {
   "cell_type": "code",
   "execution_count": 5,
   "metadata": {},
   "outputs": [
    {
     "name": "stdout",
     "output_type": "stream",
     "text": [
      "Gender: m\n",
      "Overall average relative adverb ratio: 0.10898755651536121\n",
      "Median relative adverb ratio: 0.09523809523809523\n",
      "Minimum relative adverb ratio: 0.0\n",
      "Maximum relative adverb ratio: 0.4931506849315068 \n",
      "\n",
      "Gender: w\n",
      "Overall average relative adverb ratio: 0.10476787910342987\n",
      "Median relative adverb ratio: 0.09722222222222222\n",
      "Minimum relative adverb ratio: 0.0\n",
      "Maximum relative adverb ratio: 0.34210526315789475 \n",
      "\n",
      "Gender: m\n",
      "10 most common adverbs [('nur', 63), ('so', 62), ('noch', 61), ('immer', 50), ('wieder', 45), ('hier', 44), ('auch', 43), ('doch', 42), ('mehr', 38), ('schon', 36)]\n",
      "Gender: w\n",
      "10 most common adverbs [('so', 50), ('auch', 40), ('noch', 37), ('nur', 36), ('wieder', 25), ('schon', 22), ('dann', 19), ('da', 19), ('immer', 18), ('doch', 17)]\n"
     ]
    }
   ],
   "source": [
    "path = r'corpus_finished'\n",
    "\n",
    "# Load German tokenizer, tagger, parser, NER and word vectors\n",
    "nlp = spacy.load('de_core_news_md')\n",
    "\n",
    "# Function to extract adverbs from a text\n",
    "def extract_adverbs(text):\n",
    "    doc = nlp(text)\n",
    "    return [token.text for token in doc if token.pos_ == 'ADV']\n",
    "\n",
    "# Initialize data structures\n",
    "adverbs_gender = {'m': Counter(), 'w': Counter()}\n",
    "adverb_ratios_gender = {'m': [], 'w': []}\n",
    "\n",
    "# Iterate over .json files\n",
    "for filename in os.listdir(path):\n",
    "    if filename.endswith('.json'):\n",
    "        with open(os.path.join(path, filename), 'r', encoding='utf-8') as f:\n",
    "            data = json.load(f)\n",
    "            gender = data['gender']\n",
    "            poem_text = ' '.join(line['text'] for line in data['poem'].values())\n",
    "            adverbs = extract_adverbs(poem_text)\n",
    "            ratio = len(adverbs) / len(poem_text.split())\n",
    "            adverbs_gender[gender].update(adverbs)\n",
    "            adverb_ratios_gender[gender].append(ratio)\n",
    "\n",
    "# Calculate average adverb ratios for each gender and category\n",
    "average_ratios_gender = {gender: sum(ratios) / len(ratios) for gender, ratios in adverb_ratios_gender.items()}\n",
    "\n",
    "all_genders = sorted(list(average_ratios_gender.keys()))\n",
    "\n",
    "# Create a bar chart for each category, comparing genders\n",
    "#bar_width = 0.35\n",
    "#index = np.arange(len(selected_categories))\n",
    "\n",
    "#plt.figure(figsize=(5, 5))\n",
    "\n",
    "#for i, gender in enumerate(all_genders):\n",
    "#    ratios = [average_ratios_gender_category[gender].get(category, 0) for category in selected_categories]\n",
    "#    plt.bar(index + i * bar_width, ratios, bar_width, label=gender)\n",
    "\n",
    "#plt.title('Average Relative Adverb Ratio by Selected Categories and Gender')\n",
    "#plt.xlabel('Category')\n",
    "#plt.ylabel('Average Relative Adverb Ratio')\n",
    "#plt.xticks(index + bar_width / 2, selected_categories, rotation=90)\n",
    "#plt.legend()\n",
    "#plt.tight_layout()\n",
    "#plt.show()\n",
    "\n",
    "# Print the overall, median, minimum and maximum adverb ratio for each gender\n",
    "for gender in all_genders:\n",
    "    all_ratios = adverb_ratios_gender[gender]\n",
    "    print(f'Gender: {gender}')\n",
    "    print('Overall average relative adverb ratio:', sum(all_ratios) / len(all_ratios))\n",
    "    print('Median relative adverb ratio:', statistics.median(all_ratios))\n",
    "    print('Minimum relative adverb ratio:', min(all_ratios))\n",
    "    print('Maximum relative adverb ratio:', max(all_ratios), '\\n')\n",
    "\n",
    "# Print the 10 most common adverb for each gender and selected category\n",
    "for gender in all_genders:\n",
    "    print(f'Gender: {gender}')\n",
    "    print('10 most common adverbs', adverbs_gender[gender].most_common(10))\n"
   ]
  },
  {
   "cell_type": "code",
   "execution_count": 6,
   "metadata": {},
   "outputs": [
    {
     "name": "stdout",
     "output_type": "stream",
     "text": [
      "Shapiro-Wilk-Test für Sample M:\n",
      "Teststatistik: 0.8488926887512207\n",
      "p-Wert: 1.918526448818625e-10\n",
      "Die Adverbfrequenzen für Sample M sind nicht normalverteilt.\n",
      "Shapiro-Wilk-Test für Sample W:\n",
      "Teststatistik: 0.9229220747947693\n",
      "p-Wert: 3.1761628633830696e-05\n",
      "Die Adverbfrequenzen für Sample W sind nicht normalverteilt.\n"
     ]
    }
   ],
   "source": [
    "# Funktion zum Durchführen des Shapiro-Wilk-Tests und zur Interpretation der Ergebnisse\n",
    "def test_normality(data, sample_name):\n",
    "    stat, p_value = shapiro(data)\n",
    "    alpha = 0.05  # Signifikanzniveau\n",
    "    print(f\"Shapiro-Wilk-Test für {sample_name}:\")\n",
    "    print(\"Teststatistik:\", stat)\n",
    "    print(\"p-Wert:\", p_value)\n",
    "    if p_value > alpha:\n",
    "        print(f\"Die Adverbfrequenzen für {sample_name} sind normalverteilt.\")\n",
    "    else:\n",
    "        print(f\"Die Adverbfrequenzen für {sample_name} sind nicht normalverteilt.\")\n",
    "\n",
    "# Durchführung des Tests für beide Subsamples\n",
    "test_normality(adverb_ratios_gender['m'], \"Sample M\")\n",
    "test_normality(adverb_ratios_gender['w'], \"Sample W\")"
   ]
  },
  {
   "cell_type": "code",
   "execution_count": 7,
   "metadata": {},
   "outputs": [
    {
     "name": "stdout",
     "output_type": "stream",
     "text": [
      "T-statistic: 0.5068518772180135\n",
      "p-value: 0.6127485818426899\n"
     ]
    }
   ],
   "source": [
    "import scipy.stats as stats\n",
    "\n",
    "# Perform a t-test to compare the means of the two groups\n",
    "t_stat, p_val = stats.ttest_ind(adverb_ratios_gender['m'], adverb_ratios_gender['w'])\n",
    "\n",
    "print('T-statistic:', t_stat)\n",
    "print('p-value:', p_val)"
   ]
  },
  {
   "cell_type": "code",
   "execution_count": 8,
   "metadata": {},
   "outputs": [
    {
     "name": "stdout",
     "output_type": "stream",
     "text": [
      "Mann-Whitney U-Statistik: 6630.5\n",
      "p-Wert: 0.6615697287647417\n"
     ]
    }
   ],
   "source": [
    "# Perform the Mann-Whitney-U-Test to compare the distributions\n",
    "u_stat, p_val = stats.mannwhitneyu(adverb_ratios_gender['m'], adverb_ratios_gender['w'], alternative='two-sided')\n",
    "\n",
    "print('Mann-Whitney U-Statistik:', u_stat)\n",
    "print('p-Wert:', p_val)"
   ]
  },
  {
   "cell_type": "code",
   "execution_count": 9,
   "metadata": {},
   "outputs": [
    {
     "name": "stdout",
     "output_type": "stream",
     "text": [
      "Effektstärke (Cramer's V): 0.7190257649641362\n"
     ]
    }
   ],
   "source": [
    "n1 = len(adverb_ratios_gender['m'])\n",
    "n2 = len(adverb_ratios_gender['w'])\n",
    "effect_size = np.sqrt(u_stat / (n1 * n2))\n",
    "\n",
    "print(\"Effektstärke (Cramer's V):\", effect_size)"
   ]
  },
  {
   "cell_type": "code",
   "execution_count": 10,
   "metadata": {},
   "outputs": [
    {
     "data": {
      "text/plain": [
       "(array([ 3.,  3.,  2.,  6.,  6.,  5., 10.,  6., 11.,  6.,  8.,  4., 10.,\n",
       "         5.,  0.,  1.,  2.,  2.,  0.,  1.,  0.,  0.,  0.,  1.,  1.,  1.,\n",
       "         0.,  0.,  0.,  1.]),\n",
       " array([0.        , 0.01140351, 0.02280702, 0.03421053, 0.04561404,\n",
       "        0.05701754, 0.06842105, 0.07982456, 0.09122807, 0.10263158,\n",
       "        0.11403509, 0.1254386 , 0.13684211, 0.14824561, 0.15964912,\n",
       "        0.17105263, 0.18245614, 0.19385965, 0.20526316, 0.21666667,\n",
       "        0.22807018, 0.23947368, 0.25087719, 0.2622807 , 0.27368421,\n",
       "        0.28508772, 0.29649123, 0.30789474, 0.31929825, 0.33070175,\n",
       "        0.34210526]),\n",
       " <BarContainer object of 30 artists>)"
      ]
     },
     "execution_count": 10,
     "metadata": {},
     "output_type": "execute_result"
    },
    {
     "data": {
      "image/png": "[encoded data removed]",
      "text/plain": [
       "<Figure size 432x288 with 1 Axes>"
      ]
     },
     "metadata": {
      "needs_background": "light"
     },
     "output_type": "display_data"
    }
   ],
   "source": [
    "plt.hist(adverb_ratios_gender['w'], bins=30)"
   ]
  },
  {
   "cell_type": "code",
   "execution_count": 11,
   "metadata": {},
   "outputs": [
    {
     "data": {
      "text/plain": [
       "(array([ 2.,  4.,  6., 14., 23., 24., 15., 10., 10.,  9.,  4.,  4.,  3.,\n",
       "         2.,  2.,  0.,  1.,  0.,  1.,  0.,  0.,  0.,  0.,  0.,  0.,  0.,\n",
       "         0.,  0.,  0.,  1.]),\n",
       " array([0.        , 0.01643836, 0.03287671, 0.04931507, 0.06575342,\n",
       "        0.08219178, 0.09863014, 0.11506849, 0.13150685, 0.14794521,\n",
       "        0.16438356, 0.18082192, 0.19726027, 0.21369863, 0.23013699,\n",
       "        0.24657534, 0.2630137 , 0.27945205, 0.29589041, 0.31232877,\n",
       "        0.32876712, 0.34520548, 0.36164384, 0.37808219, 0.39452055,\n",
       "        0.4109589 , 0.42739726, 0.44383562, 0.46027397, 0.47671233,\n",
       "        0.49315068]),\n",
       " <BarContainer object of 30 artists>)"
      ]
     },
     "execution_count": 11,
     "metadata": {},
     "output_type": "execute_result"
    },
    {
     "data": {
      "image/png": "[encoded data removed]",
      "text/plain": [
       "<Figure size 432x288 with 1 Axes>"
      ]
     },
     "metadata": {
      "needs_background": "light"
     },
     "output_type": "display_data"
    }
   ],
   "source": [
    "plt.hist(adverb_ratios_gender['m'], bins=30)"
   ]
  },
  {
   "cell_type": "code",
   "execution_count": null,
   "metadata": {},
   "outputs": [],
   "source": []
  }
 ],
 "metadata": {
  "kernelspec": {
   "display_name": "Python 3 (ipykernel)",
   "language": "python",
   "name": "python3"
  },
  "language_info": {
   "codemirror_mode": {
    "name": "ipython",
    "version": 3
   },
   "file_extension": ".py",
   "mimetype": "text/x-python",
   "name": "python",
   "nbconvert_exporter": "python",
   "pygments_lexer": "ipython3",
   "version": "3.9.7"
  }
 },
 "nbformat": 4,
 "nbformat_minor": 2
}
